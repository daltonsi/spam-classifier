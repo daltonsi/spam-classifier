{
 "cells": [
  {
   "cell_type": "markdown",
   "id": "11071e9d",
   "metadata": {},
   "source": [
    "# Get the Data\n",
    "\n"
   ]
  },
  {
   "cell_type": "code",
   "execution_count": 32,
   "id": "421c26cd",
   "metadata": {},
   "outputs": [],
   "source": [
    "import requests\n",
    "import os\n",
    "from tqdm import tqdm\n",
    "import tarfile\n",
    "\n",
    "url = 'https://spamassassin.apache.org/old/publiccorpus/'\n",
    "files = ['20021010_easy_ham.tar.bz2','20021010_spam.tar.bz2']\n",
    "    \n",
    "\n",
    "    \n",
    "def create_directory(cwd: str, path_extension: str):\n",
    "    new_path = cwd + path_extension\n",
    "    if not os.path.exists(source_path):\n",
    "        os.makedirs(source_path)\n",
    "\n",
    "\n",
    "        \n",
    "def dl_from_URL(urls: list, target_path: str):\n",
    "    print(f\"Start: {len(urls)} files to download\")\n",
    "    \n",
    "    for idx, url in tqdm(enumerate(urls)):\n",
    "        filename = url.split('/')[-1]\n",
    "        destination_path = target_path + filename\n",
    "        r = requests.get(url)\n",
    "        with open(destination_path, 'wb') as output_file:\n",
    "            output_file.write(r.content)\n",
    "        \n",
    "\n",
    "\n"
   ]
  },
  {
   "cell_type": "code",
   "execution_count": 34,
   "id": "66dbd3b5",
   "metadata": {},
   "outputs": [
    {
     "name": "stdout",
     "output_type": "stream",
     "text": [
      "Start: 2 files to download\n"
     ]
    },
    {
     "name": "stderr",
     "output_type": "stream",
     "text": [
      "2it [00:00,  2.52it/s]\n"
     ]
    }
   ],
   "source": [
    "cwd = os.getcwd()\n",
    "source_path = cwd + '/data/source/'\n",
    "DATA_PATH = source_path \n",
    "urls = [url + file for file in files]\n",
    "\n",
    "\n",
    "\n",
    "create_directory(cwd, source_path)\n",
    "dl_from_URL(urls, DATA_PATH)"
   ]
  },
  {
   "cell_type": "code",
   "execution_count": null,
   "id": "7b97d038",
   "metadata": {},
   "outputs": [],
   "source": []
  },
  {
   "cell_type": "code",
   "execution_count": null,
   "id": "3c984cdf",
   "metadata": {},
   "outputs": [],
   "source": []
  }
 ],
 "metadata": {
  "kernelspec": {
   "display_name": "python3_analysis",
   "language": "python",
   "name": "python3_analysis"
  },
  "language_info": {
   "codemirror_mode": {
    "name": "ipython",
    "version": 3
   },
   "file_extension": ".py",
   "mimetype": "text/x-python",
   "name": "python",
   "nbconvert_exporter": "python",
   "pygments_lexer": "ipython3",
   "version": "3.8.2"
  }
 },
 "nbformat": 4,
 "nbformat_minor": 5
}
